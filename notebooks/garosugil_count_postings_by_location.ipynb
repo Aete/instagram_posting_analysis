{
 "cells": [
  {
   "cell_type": "code",
   "execution_count": null,
   "metadata": {},
   "outputs": [],
   "source": [
    "import numpy as np\n",
    "import pandas as pd\n",
    "import geopandas as gpd\n",
    "import pydeck as pdk\n",
    "\n",
    "# 포스트 데이터 불러오기\n",
    "df_post = pd.read_csv('../inputs/posts/ulgiro.csv', index_col=0)\n",
    "\n",
    "# 텍스트 없으면 drop\n",
    "df_post = df_post.dropna()"
   ]
  }
 ],
 "metadata": {
  "language_info": {
   "name": "python"
  }
 },
 "nbformat": 4,
 "nbformat_minor": 2
}
